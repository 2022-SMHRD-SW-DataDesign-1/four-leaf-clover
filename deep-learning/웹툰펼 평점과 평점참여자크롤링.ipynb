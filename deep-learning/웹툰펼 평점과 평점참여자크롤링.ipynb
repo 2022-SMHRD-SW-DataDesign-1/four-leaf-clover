{
 "cells": [
  {
   "cell_type": "code",
   "execution_count": 3,
   "id": "3cdf7c01",
   "metadata": {},
   "outputs": [],
   "source": [
    "from selenium import webdriver\n",
    "from bs4 import BeautifulSoup as bs\n",
    "from time import sleep\n",
    "from selenium.webdriver.common.by import By\n",
    "import requests\n",
    "import os\n",
    "import pandas as pd\n",
    "# 썸네일 이미지 받을라고\n",
    "import urllib.request\n",
    "import time\n",
    "from PIL import Image\n",
    "import re\n"
   ]
  },
  {
   "cell_type": "code",
   "execution_count": 5,
   "id": "eb0d7b7f",
   "metadata": {},
   "outputs": [
    {
     "data": {
      "text/plain": [
       "'C:\\\\Users\\\\smhrd\\\\Desktop\\\\thirdproject\\\\webtoons'"
      ]
     },
     "execution_count": 5,
     "metadata": {},
     "output_type": "execute_result"
    }
   ],
   "source": [
    "os.getcwd()"
   ]
  },
  {
   "cell_type": "code",
   "execution_count": 6,
   "id": "a1aa753d",
   "metadata": {},
   "outputs": [],
   "source": [
    "# 끌어온 웹툰 전체 데이터 다시 불러오기 url 가져다 쓸꺼임\n",
    "all_webtoons = pd.read_csv('./태그별점추가.csv')\n",
    "# 윈도우는 cp979 맥은 utf 8을쓴다고?"
   ]
  },
  {
   "cell_type": "code",
   "execution_count": 8,
   "id": "bea2edd3",
   "metadata": {},
   "outputs": [
    {
     "name": "stdout",
     "output_type": "stream",
     "text": [
      "<class 'pandas.core.frame.DataFrame'>\n",
      "RangeIndex: 561 entries, 0 to 560\n",
      "Data columns (total 13 columns):\n",
      " #   Column         Non-Null Count  Dtype \n",
      "---  ------         --------------  ----- \n",
      " 0   Unnamed: 0     561 non-null    int64 \n",
      " 1   id             561 non-null    int64 \n",
      " 2   title          561 non-null    object\n",
      " 3   author         561 non-null    object\n",
      " 4   day            561 non-null    object\n",
      " 5   genre          561 non-null    object\n",
      " 6   synopsis       561 non-null    object\n",
      " 7   platform       561 non-null    object\n",
      " 8   webtoon_url    561 non-null    object\n",
      " 9   thumbnail_url  561 non-null    object\n",
      " 10  rate           561 non-null    object\n",
      " 11  likes_cnt      561 non-null    object\n",
      " 12  tag            561 non-null    object\n",
      "dtypes: int64(2), object(11)\n",
      "memory usage: 57.1+ KB\n"
     ]
    }
   ],
   "source": [
    "all_webtoons.info()"
   ]
  },
  {
   "cell_type": "code",
   "execution_count": 17,
   "id": "cf773cb9",
   "metadata": {},
   "outputs": [],
   "source": [
    "\n",
    "headers = {\n",
    "    'User-Agent':'Mozilla/5.0 (Windows NT 10.0; Win64; x64) AppleWebKit/537.36 (KHTML, like Gecko) Chrome/83.0.4103.61 Safari/537.36'\n",
    "}\n",
    "url = [\n",
    "    'https://comic.naver.com/webtoon/weekdayList?week=mon',\n",
    "    'https://comic.naver.com/webtoon/weekdayList?week=tue',\n",
    "    'https://comic.naver.com/webtoon/weekdayList?week=wen',\n",
    "    'https://comic.naver.com/webtoon/weekdayList?week=thu',\n",
    "    'https://comic.naver.com/webtoon/weekdayList?week=fri',\n",
    "    'https://comic.naver.com/webtoon/weekdayList?week=sat',\n",
    "    'https://comic.naver.com/webtoon/weekdayList?week=sun'\n",
    "]\n",
    "adult_url =[\n",
    "    'https://comic.naver.com/webtoon/list?titleId=796867&weekday=mon',\n",
    "    'https://comic.naver.com/webtoon/list?titleId=719508&weekday=tue',\n",
    "    'https://comic.naver.com/webtoon/list?titleId=670143&weekday=wed',\n",
    "    'https://comic.naver.com/webtoon/list?titleId=789434&weekday=wed',\n",
    "    'https://comic.naver.com/webtoon/list?titleId=802293&weekday=thu',\n",
    "    'https://comic.naver.com/webtoon/list?titleId=797410&weekday=thu',\n",
    "    'https://comic.naver.com/webtoon/list?titleId=804318&weekday=fri',\n",
    "    'https://comic.naver.com/webtoon/list?titleId=756139&weekday=fri',\n",
    "    'https://comic.naver.com/webtoon/list?titleId=793350&weekday=sat'\n",
    "           ]"
   ]
  },
  {
   "cell_type": "code",
   "execution_count": 92,
   "id": "ba99a213",
   "metadata": {},
   "outputs": [
    {
     "name": "stderr",
     "output_type": "stream",
     "text": [
      "C:\\Users\\smhrd\\anaconda3\\envs\\opencv3\\lib\\site-packages\\ipykernel_launcher.py:1: DeprecationWarning: executable_path has been deprecated, please pass in a Service object\n",
      "  \"\"\"Entry point for launching an IPython kernel.\n"
     ]
    }
   ],
   "source": [
    "driver = webdriver.Chrome('chromedriver.exe')"
   ]
  },
  {
   "cell_type": "code",
   "execution_count": null,
   "id": "2086a1e0",
   "metadata": {},
   "outputs": [],
   "source": [
    "#content > div.list_area.daily_img > ul > li:nth-child(1) > dl > dt > a"
   ]
  },
  {
   "cell_type": "code",
   "execution_count": null,
   "id": "56df9084",
   "metadata": {},
   "outputs": [],
   "source": [
    "rate_list = []\n",
    "title_list =[]\n",
    "rate_list =[]\n",
    "# 일단 전체 웹툰 rate_list 만 중복된건 df.drop_duplicates(subset=None, keep='first', inplace=False, ignore_index=False) ㄱ\n",
    "\n",
    "for i in range(len(url)) : # 월화수목금토일 7번 도는거 확인 \n",
    "    driver.get(url[i])\n",
    "    \n",
    "    # beautiful soup으로 html 정보 받고   \n",
    "    html = requests.get(url[i], headers= headers)\n",
    "    result = bs(html.content,'html.parser')\n",
    "    \n",
    "    # 여기에 각 회차로 들어가는 링크도 존재함\n",
    "    webtoons = result.find(\"ul\", {\"class\", \"img_list\"}).findAll(\"li\")\n",
    "    \n",
    "    num = 1 #image_name\n",
    "    # 최근 10회분의 제목을 수집 => webtoons이라는 list의 길이가 10개 그리고 td, webtoons 안에 a링크도같이있음\n",
    "    for t in webtoons: \n",
    "        # 각 회차별 html 소스 가져오기\n",
    "        each_url =\"https://comic.naver.com\" + t.a['href'] # 각회차별 링크\n",
    "        html2 = requests.get(each_url, headers = headers) # 우회 제끼고\n",
    "        result2 = bs(html2.content, \"html.parser\") # html 정보 parser해서 옴\n"
   ]
  },
  {
   "cell_type": "code",
   "execution_count": 26,
   "id": "876fbf9b",
   "metadata": {},
   "outputs": [],
   "source": [
    "driver.get(url[0])\n",
    "# beautiful soup으로 html 정보 받고   \n",
    "html = requests.get(url[0], headers= headers)\n",
    "result = bs(html.content,'html.parser')\n",
    "\n",
    "webtoons = result.find(\"ul\", {\"class\", \"img_list\"}).findAll(\"li\")"
   ]
  },
  {
   "cell_type": "code",
   "execution_count": 36,
   "id": "c7c81c6f",
   "metadata": {},
   "outputs": [],
   "source": [
    "title = driver.find_elements(By.CSS_SELECTOR, \"#content > div.list_area.daily_img > ul > li > dl > dt > a\")\n",
    "rate = driver.find_elements(By.CSS_SELECTOR, \"#content > div.list_area.daily_img > ul > li > dl > dd:nth-child(3) > div > strong\")"
   ]
  },
  {
   "cell_type": "code",
   "execution_count": 46,
   "id": "fd2b16c2",
   "metadata": {},
   "outputs": [
    {
     "name": "stdout",
     "output_type": "stream",
     "text": [
      "역주행!\n",
      "9.93\n"
     ]
    }
   ],
   "source": [
    "print(title[83].text)\n",
    "print(rate[83].text)"
   ]
  },
  {
   "cell_type": "code",
   "execution_count": 49,
   "id": "0008ebfe",
   "metadata": {},
   "outputs": [],
   "source": [
    "id_list= []\n",
    "title_list = []\n",
    "rate_list  = []"
   ]
  },
  {
   "cell_type": "code",
   "execution_count": 50,
   "id": "63f171c1",
   "metadata": {},
   "outputs": [],
   "source": [
    "for j in range(len(url)):\n",
    "    driver.get(url[j])\n",
    "    # beautiful soup으로 html 정보 받고   \n",
    "    html = requests.get(url[j], headers= headers)\n",
    "    result = bs(html.content,'html.parser')\n",
    "    title = driver.find_elements(By.CSS_SELECTOR, \"#content > div.list_area.daily_img > ul > li > dl > dt > a\")\n",
    "    rate = driver.find_elements(By.CSS_SELECTOR, \"#content > div.list_area.daily_img > ul > li > dl > dd:nth-child(3) > div > strong\")\n",
    "    for i in range(len(title)):\n",
    "        title_list.append(title[i].text)\n",
    "        rate_list.append(rate[i].text)"
   ]
  },
  {
   "cell_type": "code",
   "execution_count": 51,
   "id": "c23d99a8",
   "metadata": {},
   "outputs": [
    {
     "name": "stdout",
     "output_type": "stream",
     "text": [
      "573\n",
      "573\n"
     ]
    }
   ],
   "source": [
    "print(len(title_list))\n",
    "print(len(rate_list))"
   ]
  },
  {
   "cell_type": "code",
   "execution_count": 75,
   "id": "50b48b59",
   "metadata": {},
   "outputs": [],
   "source": [
    "title_rate = pd.DataFrame()"
   ]
  },
  {
   "cell_type": "code",
   "execution_count": 76,
   "id": "66f3ed74",
   "metadata": {},
   "outputs": [],
   "source": [
    "title_rate['title'] = title_list\n",
    "title_rate['rate'] = rate_list"
   ]
  },
  {
   "cell_type": "code",
   "execution_count": 86,
   "id": "05756b72",
   "metadata": {},
   "outputs": [],
   "source": [
    "title_rate.drop_duplicates(subset=['title'],keep='first',ignore_index=True, inplace=True)"
   ]
  },
  {
   "cell_type": "code",
   "execution_count": 88,
   "id": "71bd55d9",
   "metadata": {},
   "outputs": [],
   "source": [
    "title_rate.to_csv(\"웹툰별평균평점.csv\",encoding='euc-kr')"
   ]
  },
  {
   "cell_type": "code",
   "execution_count": 87,
   "id": "41eb7356",
   "metadata": {},
   "outputs": [
    {
     "name": "stdout",
     "output_type": "stream",
     "text": [
      "<class 'pandas.core.frame.DataFrame'>\n",
      "RangeIndex: 559 entries, 0 to 558\n",
      "Data columns (total 2 columns):\n",
      " #   Column  Non-Null Count  Dtype \n",
      "---  ------  --------------  ----- \n",
      " 0   title   559 non-null    object\n",
      " 1   rate    559 non-null    object\n",
      "dtypes: object(2)\n",
      "memory usage: 8.9+ KB\n"
     ]
    }
   ],
   "source": [
    "title_rate.info()"
   ]
  },
  {
   "cell_type": "code",
   "execution_count": 89,
   "id": "de819ea3",
   "metadata": {},
   "outputs": [
    {
     "name": "stdout",
     "output_type": "stream",
     "text": [
      "<class 'pandas.core.frame.DataFrame'>\n",
      "RangeIndex: 561 entries, 0 to 560\n",
      "Data columns (total 13 columns):\n",
      " #   Column         Non-Null Count  Dtype \n",
      "---  ------         --------------  ----- \n",
      " 0   Unnamed: 0     561 non-null    int64 \n",
      " 1   id             561 non-null    int64 \n",
      " 2   title          561 non-null    object\n",
      " 3   author         561 non-null    object\n",
      " 4   day            561 non-null    object\n",
      " 5   genre          561 non-null    object\n",
      " 6   synopsis       561 non-null    object\n",
      " 7   platform       561 non-null    object\n",
      " 8   webtoon_url    561 non-null    object\n",
      " 9   thumbnail_url  561 non-null    object\n",
      " 10  rate           561 non-null    object\n",
      " 11  likes_cnt      561 non-null    object\n",
      " 12  tag            561 non-null    object\n",
      "dtypes: int64(2), object(11)\n",
      "memory usage: 57.1+ KB\n"
     ]
    }
   ],
   "source": [
    "all_webtoons.info()"
   ]
  },
  {
   "cell_type": "code",
   "execution_count": 145,
   "id": "cd004ab7",
   "metadata": {},
   "outputs": [],
   "source": [
    "####  여기부터는 평점 참여자 구하는 크롤링 코드\n",
    "rate_participants_list= []\n",
    "rate_participants = 0\n",
    "for i in range(len(all_webtoons['webtoon_url'])) :\n",
    "    rate_participants = 0\n",
    "    if all_webtoons['webtoon_url'][i] in adult_url :\n",
    "        rate_participants_list.append(0)\n",
    "        continue\n",
    "        \n",
    "    driver.get(rate_url[i]+'&page=1000')\n",
    "    page_num = int(driver.find_element(By.CSS_SELECTOR,\"#content > div.paginate > div > strong.page > em\").text)\n",
    "    \n",
    "    for j in range(page_num):\n",
    "        \n",
    "        driver.get(rate_url[i]+'&page='+str(j))\n",
    "        # beautiful soup으로 html 정보 받고   \n",
    "        html = requests.get(rate_url[i]+'&page='+str(j), headers= headers)\n",
    "        result = bs(html.content,'html.parser')\n",
    "\n",
    "        # 여기에 각 회차로 들어가는 링크도 존재함\n",
    "        title = result.findAll(\"td\", {\"class\", \"title\"})     \n",
    "        \n",
    "        # 하나씩 눌러가는거여\n",
    "        for t in title: \n",
    "            # 각 회차별 html 소스 가져오기\n",
    "            url =\"https://comic.naver.com\" + t.a['href'] # 각회차별 링크\n",
    "            html2 = requests.get(url, headers = headers) # 우회 제끼고\n",
    "            result2 = bs(html2.content, \"html.parser\") # html 정보 parser해서 옴\n",
    "            \n",
    "            rate_participants= rate_participants+int(result2.find('span',{'class','pointTotalPerson'}).find(\"em\").text)\n",
    "    rate_participants_list.append(rate_participants)"
   ]
  },
  {
   "cell_type": "code",
   "execution_count": 148,
   "id": "0c239617",
   "metadata": {},
   "outputs": [],
   "source": [
    "all_webtoons['rate_participants'] = rate_participants_list"
   ]
  },
  {
   "cell_type": "code",
   "execution_count": 149,
   "id": "41132f30",
   "metadata": {},
   "outputs": [],
   "source": [
    "all_webtoons.to_csv('평점참여자추가.csv',encoding='euc-kr')"
   ]
  }
 ],
 "metadata": {
  "kernelspec": {
   "display_name": "Python 3 (ipykernel)",
   "language": "python",
   "name": "python3"
  },
  "language_info": {
   "codemirror_mode": {
    "name": "ipython",
    "version": 3
   },
   "file_extension": ".py",
   "mimetype": "text/x-python",
   "name": "python",
   "nbconvert_exporter": "python",
   "pygments_lexer": "ipython3",
   "version": "3.7.15"
  }
 },
 "nbformat": 4,
 "nbformat_minor": 5
}
